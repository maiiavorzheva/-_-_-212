{
 "cells": [
  {
   "cell_type": "markdown",
   "id": "149e2525",
   "metadata": {},
   "source": [
    "# RollerCoasters DataSet - шаг №1. Знакомство и базовые манипуляции."
   ]
  },
  {
   "cell_type": "markdown",
   "id": "68c07b65",
   "metadata": {},
   "source": [
    "**Познакомимся с Датасетом и затем проведем базовые манипуляции с его переменными, на основании чего выведем гипотезы**"
   ]
  },
  {
   "cell_type": "markdown",
   "id": "bd64c00c",
   "metadata": {},
   "source": [
    "Выбранный датасет включает данные об американских горках со всего мира. Его можно использовать для изучения популярности различных типов американских горок, самых распространенных парков развлечений и производителей американских горок.\n",
    "Исходя из представленных данных о рейтинге горок, можно также оценить влияние года постройки, производителя, местоположения и года оценки на субъективное восприятие американских горок. \n",
    "Ссылка на датасет: https://www.kaggle.com/datasets/thedevastator/roller-coaster-data-from-around-the-world\n",
    "\n",
    "**Рассмотрим переменные:**\n",
    "\n",
    "-**Rank** - позиция американской горки в рейтинге (исходя из интерпретированных результатов потребительского исследования)\n",
    "\n",
    "-**Name** - название американской горки\n",
    "\n",
    "-**Park** - название парка, в котором находится горка\n",
    "\n",
    "-**Location** - местоположение американской горки\n",
    "\n",
    "-**Supplier** - производитель/поставщик американской горки\n",
    "\n",
    "-**Year Built** - год постройки американской горки\n",
    "\n",
    "-**Points** - абсолютное количество очков/баллов, полученных в результате субъективной оценки (исследование потребителей)\n",
    "\n",
    "-**Year of rank** - год проведения оценки"
   ]
  },
  {
   "cell_type": "code",
   "execution_count": 1,
   "id": "c020bc36",
   "metadata": {},
   "outputs": [],
   "source": [
    "import pandas as pd\n",
    "import numpy as np"
   ]
  },
  {
   "cell_type": "code",
   "execution_count": 2,
   "id": "49408173",
   "metadata": {},
   "outputs": [
    {
     "name": "stdout",
     "output_type": "stream",
     "text": [
      "(180, 8)\n"
     ]
    },
    {
     "data": {
      "text/html": [
       "<div>\n",
       "<style scoped>\n",
       "    .dataframe tbody tr th:only-of-type {\n",
       "        vertical-align: middle;\n",
       "    }\n",
       "\n",
       "    .dataframe tbody tr th {\n",
       "        vertical-align: top;\n",
       "    }\n",
       "\n",
       "    .dataframe thead th {\n",
       "        text-align: right;\n",
       "    }\n",
       "</style>\n",
       "<table border=\"1\" class=\"dataframe\">\n",
       "  <thead>\n",
       "    <tr style=\"text-align: right;\">\n",
       "      <th></th>\n",
       "      <th>Rank</th>\n",
       "      <th>Name</th>\n",
       "      <th>Park</th>\n",
       "      <th>Location</th>\n",
       "      <th>Supplier</th>\n",
       "      <th>Year Built</th>\n",
       "      <th>Points</th>\n",
       "      <th>Year of Rank</th>\n",
       "    </tr>\n",
       "  </thead>\n",
       "  <tbody>\n",
       "    <tr>\n",
       "      <th>0</th>\n",
       "      <td>1</td>\n",
       "      <td>Millennium Force</td>\n",
       "      <td>Cedar Point</td>\n",
       "      <td>Sandusky, Ohio</td>\n",
       "      <td>Intamin</td>\n",
       "      <td>2000</td>\n",
       "      <td>1204</td>\n",
       "      <td>2013</td>\n",
       "    </tr>\n",
       "    <tr>\n",
       "      <th>1</th>\n",
       "      <td>2</td>\n",
       "      <td>Bizarro</td>\n",
       "      <td>Six Flags New England</td>\n",
       "      <td>Agawam, Mass.</td>\n",
       "      <td>Intamin</td>\n",
       "      <td>2000</td>\n",
       "      <td>1011</td>\n",
       "      <td>2013</td>\n",
       "    </tr>\n",
       "    <tr>\n",
       "      <th>2</th>\n",
       "      <td>3</td>\n",
       "      <td>Expedition GeForce</td>\n",
       "      <td>Holiday Park</td>\n",
       "      <td>Hassloch, Germany</td>\n",
       "      <td>Intamin</td>\n",
       "      <td>2001</td>\n",
       "      <td>598</td>\n",
       "      <td>2013</td>\n",
       "    </tr>\n",
       "    <tr>\n",
       "      <th>3</th>\n",
       "      <td>4</td>\n",
       "      <td>Nitro</td>\n",
       "      <td>Six Flags Great Adventure</td>\n",
       "      <td>Jackson, N.J.</td>\n",
       "      <td>B&amp;M</td>\n",
       "      <td>2001</td>\n",
       "      <td>596</td>\n",
       "      <td>2013</td>\n",
       "    </tr>\n",
       "    <tr>\n",
       "      <th>4</th>\n",
       "      <td>5</td>\n",
       "      <td>Apollo’s Chariot</td>\n",
       "      <td>Busch Gardens Williamsburg</td>\n",
       "      <td>Williamsburg, Va.</td>\n",
       "      <td>B&amp;M</td>\n",
       "      <td>1999</td>\n",
       "      <td>542</td>\n",
       "      <td>2013</td>\n",
       "    </tr>\n",
       "    <tr>\n",
       "      <th>...</th>\n",
       "      <td>...</td>\n",
       "      <td>...</td>\n",
       "      <td>...</td>\n",
       "      <td>...</td>\n",
       "      <td>...</td>\n",
       "      <td>...</td>\n",
       "      <td>...</td>\n",
       "      <td>...</td>\n",
       "    </tr>\n",
       "    <tr>\n",
       "      <th>175</th>\n",
       "      <td>46</td>\n",
       "      <td>Expedition Everest</td>\n",
       "      <td>Disney’s Animal Kingdom</td>\n",
       "      <td>Orlando, Fla.</td>\n",
       "      <td>Vekoma</td>\n",
       "      <td>2006</td>\n",
       "      <td>82</td>\n",
       "      <td>2018</td>\n",
       "    </tr>\n",
       "    <tr>\n",
       "      <th>176</th>\n",
       "      <td>47</td>\n",
       "      <td>Storm Chaser</td>\n",
       "      <td>Kentucky Kingdom</td>\n",
       "      <td>Louisville, Ky.</td>\n",
       "      <td>Rocky Mountain</td>\n",
       "      <td>2016</td>\n",
       "      <td>81</td>\n",
       "      <td>2018</td>\n",
       "    </tr>\n",
       "    <tr>\n",
       "      <th>177</th>\n",
       "      <td>48</td>\n",
       "      <td>Raging Bull</td>\n",
       "      <td>Six Flags Great America</td>\n",
       "      <td>Gurnee, Ill.</td>\n",
       "      <td>B&amp;M</td>\n",
       "      <td>1999</td>\n",
       "      <td>78</td>\n",
       "      <td>2018</td>\n",
       "    </tr>\n",
       "    <tr>\n",
       "      <th>178</th>\n",
       "      <td>49</td>\n",
       "      <td>Thunderbird</td>\n",
       "      <td>Holiday World</td>\n",
       "      <td>Santa Claus, Ind.</td>\n",
       "      <td>B&amp;M</td>\n",
       "      <td>2015</td>\n",
       "      <td>72</td>\n",
       "      <td>2018</td>\n",
       "    </tr>\n",
       "    <tr>\n",
       "      <th>179</th>\n",
       "      <td>50</td>\n",
       "      <td>Whizzer</td>\n",
       "      <td>Six Flags Great America</td>\n",
       "      <td>Gurnee, Ill.</td>\n",
       "      <td>Schwarzkopf</td>\n",
       "      <td>1976</td>\n",
       "      <td>70</td>\n",
       "      <td>2018</td>\n",
       "    </tr>\n",
       "  </tbody>\n",
       "</table>\n",
       "<p>180 rows × 8 columns</p>\n",
       "</div>"
      ],
      "text/plain": [
       "     Rank                Name                        Park           Location  \\\n",
       "0       1    Millennium Force                 Cedar Point     Sandusky, Ohio   \n",
       "1       2             Bizarro       Six Flags New England      Agawam, Mass.   \n",
       "2       3  Expedition GeForce                Holiday Park  Hassloch, Germany   \n",
       "3       4               Nitro   Six Flags Great Adventure      Jackson, N.J.   \n",
       "4       5    Apollo’s Chariot  Busch Gardens Williamsburg  Williamsburg, Va.   \n",
       "..    ...                 ...                         ...                ...   \n",
       "175    46  Expedition Everest     Disney’s Animal Kingdom      Orlando, Fla.   \n",
       "176    47        Storm Chaser            Kentucky Kingdom    Louisville, Ky.   \n",
       "177    48         Raging Bull     Six Flags Great America       Gurnee, Ill.   \n",
       "178    49         Thunderbird               Holiday World  Santa Claus, Ind.   \n",
       "179    50             Whizzer     Six Flags Great America       Gurnee, Ill.   \n",
       "\n",
       "           Supplier  Year Built  Points  Year of Rank  \n",
       "0           Intamin        2000    1204          2013  \n",
       "1           Intamin        2000    1011          2013  \n",
       "2           Intamin        2001     598          2013  \n",
       "3               B&M        2001     596          2013  \n",
       "4               B&M        1999     542          2013  \n",
       "..              ...         ...     ...           ...  \n",
       "175          Vekoma        2006      82          2018  \n",
       "176  Rocky Mountain        2016      81          2018  \n",
       "177             B&M        1999      78          2018  \n",
       "178             B&M        2015      72          2018  \n",
       "179     Schwarzkopf        1976      70          2018  \n",
       "\n",
       "[180 rows x 8 columns]"
      ]
     },
     "execution_count": 2,
     "metadata": {},
     "output_type": "execute_result"
    }
   ],
   "source": [
    "RollerCoasters = pd.read_csv(\"RollerCoasters.csv\") # зададим в качестве переменной наименование датасета, чтобы в будущем было удобно к нему обращаться\n",
    "print(RollerCoasters.shape) # определим с помощью команды \".shape\" размерность датасета: 180 рядов и 8 колонок \n",
    "RollerCoasters"
   ]
  },
  {
   "cell_type": "code",
   "execution_count": 3,
   "id": "4e3947b8",
   "metadata": {
    "scrolled": true
   },
   "outputs": [
    {
     "name": "stdout",
     "output_type": "stream",
     "text": [
      "<class 'pandas.core.frame.DataFrame'>\n",
      "RangeIndex: 180 entries, 0 to 179\n",
      "Data columns (total 8 columns):\n",
      " #   Column        Non-Null Count  Dtype \n",
      "---  ------        --------------  ----- \n",
      " 0   Rank          180 non-null    int64 \n",
      " 1   Name          180 non-null    object\n",
      " 2   Park          180 non-null    object\n",
      " 3   Location      180 non-null    object\n",
      " 4   Supplier      180 non-null    object\n",
      " 5   Year Built    180 non-null    int64 \n",
      " 6   Points        180 non-null    int64 \n",
      " 7   Year of Rank  180 non-null    int64 \n",
      "dtypes: int64(4), object(4)\n",
      "memory usage: 11.4+ KB\n"
     ]
    }
   ],
   "source": [
    "RollerCoasters.info() # методом \".info\" выведем полезную информацию о датасете и пропишем наблюдения в комментариях ниже\n",
    "# наблюдение 1: подтверждаем выведенную ранее размерность датасета (180 рядов и 8 колонок)\n",
    "# наблюдение 2: в датасете ОТСУТСТВУЮТ нулевые значения, т.е. он полностью заполнен данными без пропусков\n",
    "# наблюдение 3: в датасете в равном количестве содержатся 2 типа переменных (строковые и целые числа)\n",
    "# наблюдение 4: строковыми переменными являются колонки: наименование горки, парк аттракционов, месторасположение и поставщик\n",
    "# наблюдение 5: в виде целых чисел представлены колонки: позиция в рейтинге, год постройки, набранные очки/баллы, год оценки"
   ]
  },
  {
   "cell_type": "code",
   "execution_count": 4,
   "id": "e9c2a53b",
   "metadata": {},
   "outputs": [
    {
     "data": {
      "text/plain": [
       "array([2013, 2014, 2015, 2016, 2017, 2018], dtype=int64)"
      ]
     },
     "execution_count": 4,
     "metadata": {},
     "output_type": "execute_result"
    }
   ],
   "source": [
    "# перед началом работы с датасетом, выборочно определим уникальные значения в некоторых колонках\n",
    "RollerCoasters['Year of Rank'].unique() "
   ]
  },
  {
   "cell_type": "markdown",
   "id": "1beb46f6",
   "metadata": {},
   "source": [
    "Метод .unique() помог выбрать из датасета все годы, в которые составлялись рейтинги американских горок. \n",
    "Таким образом, исследования проводились на протяжении 6 лет с 2013 по  2018 гг."
   ]
  },
  {
   "cell_type": "code",
   "execution_count": 5,
   "id": "2a193a70",
   "metadata": {},
   "outputs": [
    {
     "data": {
      "text/plain": [
       "array(['Intamin', 'B&M', 'Rocky Mountain', 'Arrow', 'Morgan', 'Mack',\n",
       "       'RMC', 'Schwarzkopf', 'Schwarz', 'Lagoon', 'Chance', 'Vekoma',\n",
       "       'Premier', 'Morgan/Arrow', 'Zierer'], dtype=object)"
      ]
     },
     "execution_count": 5,
     "metadata": {},
     "output_type": "execute_result"
    }
   ],
   "source": [
    "RollerCoasters['Supplier'].unique() "
   ]
  },
  {
   "cell_type": "markdown",
   "id": "349a33f0",
   "metadata": {},
   "source": [
    "Таким образом, американске горки, попавшие в рейтинг, распределены между 15 производителями"
   ]
  },
  {
   "cell_type": "code",
   "execution_count": 6,
   "id": "b7026286",
   "metadata": {},
   "outputs": [
    {
     "data": {
      "text/plain": [
       "(53, 8)"
      ]
     },
     "execution_count": 6,
     "metadata": {},
     "output_type": "execute_result"
    }
   ],
   "source": [
    "# Интересно сравнить, в каком веке строили более \"классные\" горки: в 20м или в 21м. \n",
    "# Для этого используем методы фильтрации и сравним количество ТОП-10 горок, построенных до 2000х годов, и горок, построенных в 2000г и позднее.\n",
    "RollerCoasters[(RollerCoasters['Year Built'] >= 2000) &\n",
    "      (RollerCoasters['Rank'] <= 10)].shape"
   ]
  },
  {
   "cell_type": "markdown",
   "id": "9d78cece",
   "metadata": {},
   "source": [
    "Итого 53 американские горки, построенные в 2000-х и позднее, попали в ТОП-10"
   ]
  },
  {
   "cell_type": "code",
   "execution_count": 7,
   "id": "1c0368d3",
   "metadata": {},
   "outputs": [
    {
     "data": {
      "text/plain": [
       "(7, 8)"
      ]
     },
     "execution_count": 7,
     "metadata": {},
     "output_type": "execute_result"
    }
   ],
   "source": [
    "RollerCoasters[(RollerCoasters['Year Built'] < 2000) &\n",
    "      (RollerCoasters['Rank'] <= 10)].shape"
   ]
  },
  {
   "cell_type": "markdown",
   "id": "9fa2b9e9",
   "metadata": {},
   "source": [
    "Итого 7 американских горок, построенных в 20м веке, попали в ТОП-10"
   ]
  },
  {
   "cell_type": "markdown",
   "id": "a2c5b55e",
   "metadata": {},
   "source": [
    "**Таким образом, фильтрация данных помогла выстроить первоначальную гипотезу о том, что год постройки влияет на позицию американской горки в рейтинге. Чем горка \"новее\", тем она интереснее.**"
   ]
  },
  {
   "cell_type": "code",
   "execution_count": 8,
   "id": "f3d1cbb5",
   "metadata": {},
   "outputs": [
    {
     "data": {
      "text/html": [
       "<div>\n",
       "<style scoped>\n",
       "    .dataframe tbody tr th:only-of-type {\n",
       "        vertical-align: middle;\n",
       "    }\n",
       "\n",
       "    .dataframe tbody tr th {\n",
       "        vertical-align: top;\n",
       "    }\n",
       "\n",
       "    .dataframe thead th {\n",
       "        text-align: right;\n",
       "    }\n",
       "</style>\n",
       "<table border=\"1\" class=\"dataframe\">\n",
       "  <thead>\n",
       "    <tr style=\"text-align: right;\">\n",
       "      <th></th>\n",
       "      <th>Rank</th>\n",
       "      <th>Name</th>\n",
       "      <th>Park</th>\n",
       "      <th>Location</th>\n",
       "      <th>Supplier</th>\n",
       "      <th>Year Built</th>\n",
       "      <th>Points</th>\n",
       "      <th>Year of Rank</th>\n",
       "    </tr>\n",
       "  </thead>\n",
       "  <tbody>\n",
       "    <tr>\n",
       "      <th>30</th>\n",
       "      <td>1</td>\n",
       "      <td>Fury 325</td>\n",
       "      <td>Carowinds</td>\n",
       "      <td>Charlotte, N.C.</td>\n",
       "      <td>B&amp;M</td>\n",
       "      <td>2015</td>\n",
       "      <td>1126</td>\n",
       "      <td>2016</td>\n",
       "    </tr>\n",
       "    <tr>\n",
       "      <th>80</th>\n",
       "      <td>1</td>\n",
       "      <td>Fury 325</td>\n",
       "      <td>Carowinds</td>\n",
       "      <td>Charlotte, N.C.</td>\n",
       "      <td>B&amp;M</td>\n",
       "      <td>2015</td>\n",
       "      <td>1354</td>\n",
       "      <td>2017</td>\n",
       "    </tr>\n",
       "    <tr>\n",
       "      <th>130</th>\n",
       "      <td>1</td>\n",
       "      <td>Fury 325</td>\n",
       "      <td>Carowinds</td>\n",
       "      <td>Charlotte, N.C.</td>\n",
       "      <td>B&amp;M</td>\n",
       "      <td>2015</td>\n",
       "      <td>1222</td>\n",
       "      <td>2018</td>\n",
       "    </tr>\n",
       "    <tr>\n",
       "      <th>0</th>\n",
       "      <td>1</td>\n",
       "      <td>Millennium Force</td>\n",
       "      <td>Cedar Point</td>\n",
       "      <td>Sandusky, Ohio</td>\n",
       "      <td>Intamin</td>\n",
       "      <td>2000</td>\n",
       "      <td>1204</td>\n",
       "      <td>2013</td>\n",
       "    </tr>\n",
       "    <tr>\n",
       "      <th>10</th>\n",
       "      <td>1</td>\n",
       "      <td>Millennium Force</td>\n",
       "      <td>Cedar Point</td>\n",
       "      <td>Sandusky, Ohio</td>\n",
       "      <td>Intamin</td>\n",
       "      <td>2000</td>\n",
       "      <td>1139</td>\n",
       "      <td>2014</td>\n",
       "    </tr>\n",
       "    <tr>\n",
       "      <th>...</th>\n",
       "      <td>...</td>\n",
       "      <td>...</td>\n",
       "      <td>...</td>\n",
       "      <td>...</td>\n",
       "      <td>...</td>\n",
       "      <td>...</td>\n",
       "      <td>...</td>\n",
       "      <td>...</td>\n",
       "    </tr>\n",
       "    <tr>\n",
       "      <th>79</th>\n",
       "      <td>49</td>\n",
       "      <td>GateKeeper</td>\n",
       "      <td>Cedar Point</td>\n",
       "      <td>Sandusky, Ohio</td>\n",
       "      <td>B&amp;M</td>\n",
       "      <td>2013</td>\n",
       "      <td>72</td>\n",
       "      <td>2016</td>\n",
       "    </tr>\n",
       "    <tr>\n",
       "      <th>78</th>\n",
       "      <td>49</td>\n",
       "      <td>Expedition Everest</td>\n",
       "      <td>Disney’s Animal Kingdom</td>\n",
       "      <td>Orlando, Fla.</td>\n",
       "      <td>Vekoma</td>\n",
       "      <td>2006</td>\n",
       "      <td>72</td>\n",
       "      <td>2016</td>\n",
       "    </tr>\n",
       "    <tr>\n",
       "      <th>128</th>\n",
       "      <td>49</td>\n",
       "      <td>Expedition Everest</td>\n",
       "      <td>Disney’s Animal Kingdom</td>\n",
       "      <td>Orlando, Fla.</td>\n",
       "      <td>Vekoma</td>\n",
       "      <td>2006</td>\n",
       "      <td>61</td>\n",
       "      <td>2017</td>\n",
       "    </tr>\n",
       "    <tr>\n",
       "      <th>129</th>\n",
       "      <td>50</td>\n",
       "      <td>Full Throttle</td>\n",
       "      <td>Six Flags Magic Mountain</td>\n",
       "      <td>Valencia, Calif.</td>\n",
       "      <td>Premier</td>\n",
       "      <td>2013</td>\n",
       "      <td>59</td>\n",
       "      <td>2017</td>\n",
       "    </tr>\n",
       "    <tr>\n",
       "      <th>179</th>\n",
       "      <td>50</td>\n",
       "      <td>Whizzer</td>\n",
       "      <td>Six Flags Great America</td>\n",
       "      <td>Gurnee, Ill.</td>\n",
       "      <td>Schwarzkopf</td>\n",
       "      <td>1976</td>\n",
       "      <td>70</td>\n",
       "      <td>2018</td>\n",
       "    </tr>\n",
       "  </tbody>\n",
       "</table>\n",
       "<p>180 rows × 8 columns</p>\n",
       "</div>"
      ],
      "text/plain": [
       "     Rank                Name                      Park          Location  \\\n",
       "30      1            Fury 325                 Carowinds   Charlotte, N.C.   \n",
       "80      1            Fury 325                 Carowinds   Charlotte, N.C.   \n",
       "130     1            Fury 325                 Carowinds   Charlotte, N.C.   \n",
       "0       1    Millennium Force               Cedar Point    Sandusky, Ohio   \n",
       "10      1    Millennium Force               Cedar Point    Sandusky, Ohio   \n",
       "..    ...                 ...                       ...               ...   \n",
       "79     49          GateKeeper               Cedar Point    Sandusky, Ohio   \n",
       "78     49  Expedition Everest   Disney’s Animal Kingdom     Orlando, Fla.   \n",
       "128    49  Expedition Everest   Disney’s Animal Kingdom     Orlando, Fla.   \n",
       "129    50       Full Throttle  Six Flags Magic Mountain  Valencia, Calif.   \n",
       "179    50             Whizzer   Six Flags Great America      Gurnee, Ill.   \n",
       "\n",
       "        Supplier  Year Built  Points  Year of Rank  \n",
       "30           B&M        2015    1126          2016  \n",
       "80           B&M        2015    1354          2017  \n",
       "130          B&M        2015    1222          2018  \n",
       "0        Intamin        2000    1204          2013  \n",
       "10       Intamin        2000    1139          2014  \n",
       "..           ...         ...     ...           ...  \n",
       "79           B&M        2013      72          2016  \n",
       "78        Vekoma        2006      72          2016  \n",
       "128       Vekoma        2006      61          2017  \n",
       "129      Premier        2013      59          2017  \n",
       "179  Schwarzkopf        1976      70          2018  \n",
       "\n",
       "[180 rows x 8 columns]"
      ]
     },
     "execution_count": 8,
     "metadata": {},
     "output_type": "execute_result"
    }
   ],
   "source": [
    "# Отсортируем наш датасет по 2 переменным: позиция в рейтинге и год постройки\n",
    "RollerCoasters.sort_values(by=['Rank', 'Year Built'], ascending=[True, False])"
   ]
  },
  {
   "cell_type": "markdown",
   "id": "e25e923f",
   "metadata": {},
   "source": [
    "**Таким образом, благодаря инструменту множественной сортировки, нам удалось выявить, что ТОПовый аттракцион Fury 325 был произведен в 2015 году компанией B&M и на протяжении последних 3 лет исследований занимал лидирующую позицию по мнению любителей американских горок**"
   ]
  },
  {
   "cell_type": "code",
   "execution_count": 9,
   "id": "4c223dbc",
   "metadata": {
    "scrolled": true
   },
   "outputs": [],
   "source": [
    "# в выбранном датасете попробуем создать новую бинарную переменную посредством фунции lambda (по признаку принадлежности переменной к заданному интервалу)\n",
    "# хорошим претендентом на бинарную переменную является позиция аттракциона в рейтинге (Rank)\n",
    "# Представим, что если горка является ТОПовой (т.е. имеет позицию в рейтнге не ниже 10), то она имеет признак 1 в колонке Top-Rank"
   ]
  },
  {
   "cell_type": "code",
   "execution_count": 10,
   "id": "559cea57",
   "metadata": {},
   "outputs": [
    {
     "data": {
      "text/html": [
       "<div>\n",
       "<style scoped>\n",
       "    .dataframe tbody tr th:only-of-type {\n",
       "        vertical-align: middle;\n",
       "    }\n",
       "\n",
       "    .dataframe tbody tr th {\n",
       "        vertical-align: top;\n",
       "    }\n",
       "\n",
       "    .dataframe thead th {\n",
       "        text-align: right;\n",
       "    }\n",
       "</style>\n",
       "<table border=\"1\" class=\"dataframe\">\n",
       "  <thead>\n",
       "    <tr style=\"text-align: right;\">\n",
       "      <th></th>\n",
       "      <th>Rank</th>\n",
       "      <th>Name</th>\n",
       "      <th>Park</th>\n",
       "      <th>Location</th>\n",
       "      <th>Supplier</th>\n",
       "      <th>Year Built</th>\n",
       "      <th>Points</th>\n",
       "      <th>Year of Rank</th>\n",
       "      <th>TOP-Rank</th>\n",
       "    </tr>\n",
       "  </thead>\n",
       "  <tbody>\n",
       "    <tr>\n",
       "      <th>0</th>\n",
       "      <td>1</td>\n",
       "      <td>Millennium Force</td>\n",
       "      <td>Cedar Point</td>\n",
       "      <td>Sandusky, Ohio</td>\n",
       "      <td>Intamin</td>\n",
       "      <td>2000</td>\n",
       "      <td>1204</td>\n",
       "      <td>2013</td>\n",
       "      <td>1</td>\n",
       "    </tr>\n",
       "    <tr>\n",
       "      <th>1</th>\n",
       "      <td>2</td>\n",
       "      <td>Bizarro</td>\n",
       "      <td>Six Flags New England</td>\n",
       "      <td>Agawam, Mass.</td>\n",
       "      <td>Intamin</td>\n",
       "      <td>2000</td>\n",
       "      <td>1011</td>\n",
       "      <td>2013</td>\n",
       "      <td>1</td>\n",
       "    </tr>\n",
       "    <tr>\n",
       "      <th>2</th>\n",
       "      <td>3</td>\n",
       "      <td>Expedition GeForce</td>\n",
       "      <td>Holiday Park</td>\n",
       "      <td>Hassloch, Germany</td>\n",
       "      <td>Intamin</td>\n",
       "      <td>2001</td>\n",
       "      <td>598</td>\n",
       "      <td>2013</td>\n",
       "      <td>1</td>\n",
       "    </tr>\n",
       "    <tr>\n",
       "      <th>3</th>\n",
       "      <td>4</td>\n",
       "      <td>Nitro</td>\n",
       "      <td>Six Flags Great Adventure</td>\n",
       "      <td>Jackson, N.J.</td>\n",
       "      <td>B&amp;M</td>\n",
       "      <td>2001</td>\n",
       "      <td>596</td>\n",
       "      <td>2013</td>\n",
       "      <td>1</td>\n",
       "    </tr>\n",
       "    <tr>\n",
       "      <th>4</th>\n",
       "      <td>5</td>\n",
       "      <td>Apollo’s Chariot</td>\n",
       "      <td>Busch Gardens Williamsburg</td>\n",
       "      <td>Williamsburg, Va.</td>\n",
       "      <td>B&amp;M</td>\n",
       "      <td>1999</td>\n",
       "      <td>542</td>\n",
       "      <td>2013</td>\n",
       "      <td>1</td>\n",
       "    </tr>\n",
       "    <tr>\n",
       "      <th>...</th>\n",
       "      <td>...</td>\n",
       "      <td>...</td>\n",
       "      <td>...</td>\n",
       "      <td>...</td>\n",
       "      <td>...</td>\n",
       "      <td>...</td>\n",
       "      <td>...</td>\n",
       "      <td>...</td>\n",
       "      <td>...</td>\n",
       "    </tr>\n",
       "    <tr>\n",
       "      <th>175</th>\n",
       "      <td>46</td>\n",
       "      <td>Expedition Everest</td>\n",
       "      <td>Disney’s Animal Kingdom</td>\n",
       "      <td>Orlando, Fla.</td>\n",
       "      <td>Vekoma</td>\n",
       "      <td>2006</td>\n",
       "      <td>82</td>\n",
       "      <td>2018</td>\n",
       "      <td>0</td>\n",
       "    </tr>\n",
       "    <tr>\n",
       "      <th>176</th>\n",
       "      <td>47</td>\n",
       "      <td>Storm Chaser</td>\n",
       "      <td>Kentucky Kingdom</td>\n",
       "      <td>Louisville, Ky.</td>\n",
       "      <td>Rocky Mountain</td>\n",
       "      <td>2016</td>\n",
       "      <td>81</td>\n",
       "      <td>2018</td>\n",
       "      <td>0</td>\n",
       "    </tr>\n",
       "    <tr>\n",
       "      <th>177</th>\n",
       "      <td>48</td>\n",
       "      <td>Raging Bull</td>\n",
       "      <td>Six Flags Great America</td>\n",
       "      <td>Gurnee, Ill.</td>\n",
       "      <td>B&amp;M</td>\n",
       "      <td>1999</td>\n",
       "      <td>78</td>\n",
       "      <td>2018</td>\n",
       "      <td>0</td>\n",
       "    </tr>\n",
       "    <tr>\n",
       "      <th>178</th>\n",
       "      <td>49</td>\n",
       "      <td>Thunderbird</td>\n",
       "      <td>Holiday World</td>\n",
       "      <td>Santa Claus, Ind.</td>\n",
       "      <td>B&amp;M</td>\n",
       "      <td>2015</td>\n",
       "      <td>72</td>\n",
       "      <td>2018</td>\n",
       "      <td>0</td>\n",
       "    </tr>\n",
       "    <tr>\n",
       "      <th>179</th>\n",
       "      <td>50</td>\n",
       "      <td>Whizzer</td>\n",
       "      <td>Six Flags Great America</td>\n",
       "      <td>Gurnee, Ill.</td>\n",
       "      <td>Schwarzkopf</td>\n",
       "      <td>1976</td>\n",
       "      <td>70</td>\n",
       "      <td>2018</td>\n",
       "      <td>0</td>\n",
       "    </tr>\n",
       "  </tbody>\n",
       "</table>\n",
       "<p>180 rows × 9 columns</p>\n",
       "</div>"
      ],
      "text/plain": [
       "     Rank                Name                        Park           Location  \\\n",
       "0       1    Millennium Force                 Cedar Point     Sandusky, Ohio   \n",
       "1       2             Bizarro       Six Flags New England      Agawam, Mass.   \n",
       "2       3  Expedition GeForce                Holiday Park  Hassloch, Germany   \n",
       "3       4               Nitro   Six Flags Great Adventure      Jackson, N.J.   \n",
       "4       5    Apollo’s Chariot  Busch Gardens Williamsburg  Williamsburg, Va.   \n",
       "..    ...                 ...                         ...                ...   \n",
       "175    46  Expedition Everest     Disney’s Animal Kingdom      Orlando, Fla.   \n",
       "176    47        Storm Chaser            Kentucky Kingdom    Louisville, Ky.   \n",
       "177    48         Raging Bull     Six Flags Great America       Gurnee, Ill.   \n",
       "178    49         Thunderbird               Holiday World  Santa Claus, Ind.   \n",
       "179    50             Whizzer     Six Flags Great America       Gurnee, Ill.   \n",
       "\n",
       "           Supplier  Year Built  Points  Year of Rank  TOP-Rank  \n",
       "0           Intamin        2000    1204          2013         1  \n",
       "1           Intamin        2000    1011          2013         1  \n",
       "2           Intamin        2001     598          2013         1  \n",
       "3               B&M        2001     596          2013         1  \n",
       "4               B&M        1999     542          2013         1  \n",
       "..              ...         ...     ...           ...       ...  \n",
       "175          Vekoma        2006      82          2018         0  \n",
       "176  Rocky Mountain        2016      81          2018         0  \n",
       "177             B&M        1999      78          2018         0  \n",
       "178             B&M        2015      72          2018         0  \n",
       "179     Schwarzkopf        1976      70          2018         0  \n",
       "\n",
       "[180 rows x 9 columns]"
      ]
     },
     "execution_count": 10,
     "metadata": {},
     "output_type": "execute_result"
    }
   ],
   "source": [
    "RollerCoasters['TOP-Rank'] = RollerCoasters['Rank'].apply(lambda x: 1 if x in range(1,11) else 0)\n",
    "RollerCoasters"
   ]
  },
  {
   "cell_type": "code",
   "execution_count": 11,
   "id": "a9973be9",
   "metadata": {},
   "outputs": [],
   "source": [
    "# Создадим также категориальную переменную \"Rank Quality\" на основе количественной \"Rank\"\n",
    "# Новая категориальная переменная будет характеризовать позицию аттракциона в рейтинге по определенной шкале\n",
    "# Позицию в интервале (1-5,включительно) будем считать Supreme\n",
    "# Позицию в интервале (6-15, включительно) будем считать Leading\n",
    "# Позицию в интервале (16-30, включительно) будем считать Fine\n",
    "# Позицию в интервале (31-40, включительно) будем считать Satisfactory\n",
    "# Позицию в интервале (41-50, включительно) будем считать Poor"
   ]
  },
  {
   "cell_type": "code",
   "execution_count": 12,
   "id": "353415c5",
   "metadata": {},
   "outputs": [],
   "source": [
    "def get_rank_qual(Rank):\n",
    "    if Rank < 11:\n",
    "        return 'Supreme'\n",
    "    elif Rank < 16:\n",
    "        return 'Leading'\n",
    "    elif Rank < 31:\n",
    "        return 'Fine'\n",
    "    elif Rank < 41:\n",
    "        return 'Satisfactory'\n",
    "    elif Rank < 51:\n",
    "        return 'Poor'\n",
    "    else:\n",
    "        return Rank"
   ]
  },
  {
   "cell_type": "code",
   "execution_count": 13,
   "id": "2fccde30",
   "metadata": {},
   "outputs": [],
   "source": [
    "RollerCoasters['Rank Quality'] = RollerCoasters['Rank'].apply(get_rank_qual)"
   ]
  },
  {
   "cell_type": "code",
   "execution_count": 14,
   "id": "9da6b396",
   "metadata": {},
   "outputs": [
    {
     "data": {
      "text/html": [
       "<div>\n",
       "<style scoped>\n",
       "    .dataframe tbody tr th:only-of-type {\n",
       "        vertical-align: middle;\n",
       "    }\n",
       "\n",
       "    .dataframe tbody tr th {\n",
       "        vertical-align: top;\n",
       "    }\n",
       "\n",
       "    .dataframe thead th {\n",
       "        text-align: right;\n",
       "    }\n",
       "</style>\n",
       "<table border=\"1\" class=\"dataframe\">\n",
       "  <thead>\n",
       "    <tr style=\"text-align: right;\">\n",
       "      <th></th>\n",
       "      <th>Rank</th>\n",
       "      <th>Name</th>\n",
       "      <th>Park</th>\n",
       "      <th>Location</th>\n",
       "      <th>Supplier</th>\n",
       "      <th>Year Built</th>\n",
       "      <th>Points</th>\n",
       "      <th>Year of Rank</th>\n",
       "      <th>TOP-Rank</th>\n",
       "      <th>Rank Quality</th>\n",
       "    </tr>\n",
       "  </thead>\n",
       "  <tbody>\n",
       "    <tr>\n",
       "      <th>0</th>\n",
       "      <td>1</td>\n",
       "      <td>Millennium Force</td>\n",
       "      <td>Cedar Point</td>\n",
       "      <td>Sandusky, Ohio</td>\n",
       "      <td>Intamin</td>\n",
       "      <td>2000</td>\n",
       "      <td>1204</td>\n",
       "      <td>2013</td>\n",
       "      <td>1</td>\n",
       "      <td>Supreme</td>\n",
       "    </tr>\n",
       "    <tr>\n",
       "      <th>1</th>\n",
       "      <td>2</td>\n",
       "      <td>Bizarro</td>\n",
       "      <td>Six Flags New England</td>\n",
       "      <td>Agawam, Mass.</td>\n",
       "      <td>Intamin</td>\n",
       "      <td>2000</td>\n",
       "      <td>1011</td>\n",
       "      <td>2013</td>\n",
       "      <td>1</td>\n",
       "      <td>Supreme</td>\n",
       "    </tr>\n",
       "    <tr>\n",
       "      <th>2</th>\n",
       "      <td>3</td>\n",
       "      <td>Expedition GeForce</td>\n",
       "      <td>Holiday Park</td>\n",
       "      <td>Hassloch, Germany</td>\n",
       "      <td>Intamin</td>\n",
       "      <td>2001</td>\n",
       "      <td>598</td>\n",
       "      <td>2013</td>\n",
       "      <td>1</td>\n",
       "      <td>Supreme</td>\n",
       "    </tr>\n",
       "    <tr>\n",
       "      <th>3</th>\n",
       "      <td>4</td>\n",
       "      <td>Nitro</td>\n",
       "      <td>Six Flags Great Adventure</td>\n",
       "      <td>Jackson, N.J.</td>\n",
       "      <td>B&amp;M</td>\n",
       "      <td>2001</td>\n",
       "      <td>596</td>\n",
       "      <td>2013</td>\n",
       "      <td>1</td>\n",
       "      <td>Supreme</td>\n",
       "    </tr>\n",
       "    <tr>\n",
       "      <th>4</th>\n",
       "      <td>5</td>\n",
       "      <td>Apollo’s Chariot</td>\n",
       "      <td>Busch Gardens Williamsburg</td>\n",
       "      <td>Williamsburg, Va.</td>\n",
       "      <td>B&amp;M</td>\n",
       "      <td>1999</td>\n",
       "      <td>542</td>\n",
       "      <td>2013</td>\n",
       "      <td>1</td>\n",
       "      <td>Supreme</td>\n",
       "    </tr>\n",
       "    <tr>\n",
       "      <th>...</th>\n",
       "      <td>...</td>\n",
       "      <td>...</td>\n",
       "      <td>...</td>\n",
       "      <td>...</td>\n",
       "      <td>...</td>\n",
       "      <td>...</td>\n",
       "      <td>...</td>\n",
       "      <td>...</td>\n",
       "      <td>...</td>\n",
       "      <td>...</td>\n",
       "    </tr>\n",
       "    <tr>\n",
       "      <th>175</th>\n",
       "      <td>46</td>\n",
       "      <td>Expedition Everest</td>\n",
       "      <td>Disney’s Animal Kingdom</td>\n",
       "      <td>Orlando, Fla.</td>\n",
       "      <td>Vekoma</td>\n",
       "      <td>2006</td>\n",
       "      <td>82</td>\n",
       "      <td>2018</td>\n",
       "      <td>0</td>\n",
       "      <td>Poor</td>\n",
       "    </tr>\n",
       "    <tr>\n",
       "      <th>176</th>\n",
       "      <td>47</td>\n",
       "      <td>Storm Chaser</td>\n",
       "      <td>Kentucky Kingdom</td>\n",
       "      <td>Louisville, Ky.</td>\n",
       "      <td>Rocky Mountain</td>\n",
       "      <td>2016</td>\n",
       "      <td>81</td>\n",
       "      <td>2018</td>\n",
       "      <td>0</td>\n",
       "      <td>Poor</td>\n",
       "    </tr>\n",
       "    <tr>\n",
       "      <th>177</th>\n",
       "      <td>48</td>\n",
       "      <td>Raging Bull</td>\n",
       "      <td>Six Flags Great America</td>\n",
       "      <td>Gurnee, Ill.</td>\n",
       "      <td>B&amp;M</td>\n",
       "      <td>1999</td>\n",
       "      <td>78</td>\n",
       "      <td>2018</td>\n",
       "      <td>0</td>\n",
       "      <td>Poor</td>\n",
       "    </tr>\n",
       "    <tr>\n",
       "      <th>178</th>\n",
       "      <td>49</td>\n",
       "      <td>Thunderbird</td>\n",
       "      <td>Holiday World</td>\n",
       "      <td>Santa Claus, Ind.</td>\n",
       "      <td>B&amp;M</td>\n",
       "      <td>2015</td>\n",
       "      <td>72</td>\n",
       "      <td>2018</td>\n",
       "      <td>0</td>\n",
       "      <td>Poor</td>\n",
       "    </tr>\n",
       "    <tr>\n",
       "      <th>179</th>\n",
       "      <td>50</td>\n",
       "      <td>Whizzer</td>\n",
       "      <td>Six Flags Great America</td>\n",
       "      <td>Gurnee, Ill.</td>\n",
       "      <td>Schwarzkopf</td>\n",
       "      <td>1976</td>\n",
       "      <td>70</td>\n",
       "      <td>2018</td>\n",
       "      <td>0</td>\n",
       "      <td>Poor</td>\n",
       "    </tr>\n",
       "  </tbody>\n",
       "</table>\n",
       "<p>180 rows × 10 columns</p>\n",
       "</div>"
      ],
      "text/plain": [
       "     Rank                Name                        Park           Location  \\\n",
       "0       1    Millennium Force                 Cedar Point     Sandusky, Ohio   \n",
       "1       2             Bizarro       Six Flags New England      Agawam, Mass.   \n",
       "2       3  Expedition GeForce                Holiday Park  Hassloch, Germany   \n",
       "3       4               Nitro   Six Flags Great Adventure      Jackson, N.J.   \n",
       "4       5    Apollo’s Chariot  Busch Gardens Williamsburg  Williamsburg, Va.   \n",
       "..    ...                 ...                         ...                ...   \n",
       "175    46  Expedition Everest     Disney’s Animal Kingdom      Orlando, Fla.   \n",
       "176    47        Storm Chaser            Kentucky Kingdom    Louisville, Ky.   \n",
       "177    48         Raging Bull     Six Flags Great America       Gurnee, Ill.   \n",
       "178    49         Thunderbird               Holiday World  Santa Claus, Ind.   \n",
       "179    50             Whizzer     Six Flags Great America       Gurnee, Ill.   \n",
       "\n",
       "           Supplier  Year Built  Points  Year of Rank  TOP-Rank Rank Quality  \n",
       "0           Intamin        2000    1204          2013         1      Supreme  \n",
       "1           Intamin        2000    1011          2013         1      Supreme  \n",
       "2           Intamin        2001     598          2013         1      Supreme  \n",
       "3               B&M        2001     596          2013         1      Supreme  \n",
       "4               B&M        1999     542          2013         1      Supreme  \n",
       "..              ...         ...     ...           ...       ...          ...  \n",
       "175          Vekoma        2006      82          2018         0         Poor  \n",
       "176  Rocky Mountain        2016      81          2018         0         Poor  \n",
       "177             B&M        1999      78          2018         0         Poor  \n",
       "178             B&M        2015      72          2018         0         Poor  \n",
       "179     Schwarzkopf        1976      70          2018         0         Poor  \n",
       "\n",
       "[180 rows x 10 columns]"
      ]
     },
     "execution_count": 14,
     "metadata": {},
     "output_type": "execute_result"
    }
   ],
   "source": [
    "RollerCoasters"
   ]
  },
  {
   "cell_type": "code",
   "execution_count": 15,
   "id": "56e048ba",
   "metadata": {},
   "outputs": [],
   "source": [
    "RollerCoasters['Supreme Quality'] = RollerCoasters['Rank Quality'] == 'Supreme'"
   ]
  },
  {
   "cell_type": "code",
   "execution_count": 16,
   "id": "c705c31f",
   "metadata": {},
   "outputs": [
    {
     "data": {
      "text/html": [
       "<div>\n",
       "<style scoped>\n",
       "    .dataframe tbody tr th:only-of-type {\n",
       "        vertical-align: middle;\n",
       "    }\n",
       "\n",
       "    .dataframe tbody tr th {\n",
       "        vertical-align: top;\n",
       "    }\n",
       "\n",
       "    .dataframe thead th {\n",
       "        text-align: right;\n",
       "    }\n",
       "</style>\n",
       "<table border=\"1\" class=\"dataframe\">\n",
       "  <thead>\n",
       "    <tr style=\"text-align: right;\">\n",
       "      <th></th>\n",
       "      <th>Rank</th>\n",
       "      <th>Name</th>\n",
       "      <th>Park</th>\n",
       "      <th>Location</th>\n",
       "      <th>Supplier</th>\n",
       "      <th>Year Built</th>\n",
       "      <th>Points</th>\n",
       "      <th>Year of Rank</th>\n",
       "      <th>TOP-Rank</th>\n",
       "      <th>Rank Quality</th>\n",
       "      <th>Supreme Quality</th>\n",
       "    </tr>\n",
       "  </thead>\n",
       "  <tbody>\n",
       "    <tr>\n",
       "      <th>0</th>\n",
       "      <td>1</td>\n",
       "      <td>Millennium Force</td>\n",
       "      <td>Cedar Point</td>\n",
       "      <td>Sandusky, Ohio</td>\n",
       "      <td>Intamin</td>\n",
       "      <td>2000</td>\n",
       "      <td>1204</td>\n",
       "      <td>2013</td>\n",
       "      <td>1</td>\n",
       "      <td>Supreme</td>\n",
       "      <td>True</td>\n",
       "    </tr>\n",
       "    <tr>\n",
       "      <th>1</th>\n",
       "      <td>2</td>\n",
       "      <td>Bizarro</td>\n",
       "      <td>Six Flags New England</td>\n",
       "      <td>Agawam, Mass.</td>\n",
       "      <td>Intamin</td>\n",
       "      <td>2000</td>\n",
       "      <td>1011</td>\n",
       "      <td>2013</td>\n",
       "      <td>1</td>\n",
       "      <td>Supreme</td>\n",
       "      <td>True</td>\n",
       "    </tr>\n",
       "    <tr>\n",
       "      <th>2</th>\n",
       "      <td>3</td>\n",
       "      <td>Expedition GeForce</td>\n",
       "      <td>Holiday Park</td>\n",
       "      <td>Hassloch, Germany</td>\n",
       "      <td>Intamin</td>\n",
       "      <td>2001</td>\n",
       "      <td>598</td>\n",
       "      <td>2013</td>\n",
       "      <td>1</td>\n",
       "      <td>Supreme</td>\n",
       "      <td>True</td>\n",
       "    </tr>\n",
       "    <tr>\n",
       "      <th>3</th>\n",
       "      <td>4</td>\n",
       "      <td>Nitro</td>\n",
       "      <td>Six Flags Great Adventure</td>\n",
       "      <td>Jackson, N.J.</td>\n",
       "      <td>B&amp;M</td>\n",
       "      <td>2001</td>\n",
       "      <td>596</td>\n",
       "      <td>2013</td>\n",
       "      <td>1</td>\n",
       "      <td>Supreme</td>\n",
       "      <td>True</td>\n",
       "    </tr>\n",
       "    <tr>\n",
       "      <th>4</th>\n",
       "      <td>5</td>\n",
       "      <td>Apollo’s Chariot</td>\n",
       "      <td>Busch Gardens Williamsburg</td>\n",
       "      <td>Williamsburg, Va.</td>\n",
       "      <td>B&amp;M</td>\n",
       "      <td>1999</td>\n",
       "      <td>542</td>\n",
       "      <td>2013</td>\n",
       "      <td>1</td>\n",
       "      <td>Supreme</td>\n",
       "      <td>True</td>\n",
       "    </tr>\n",
       "    <tr>\n",
       "      <th>...</th>\n",
       "      <td>...</td>\n",
       "      <td>...</td>\n",
       "      <td>...</td>\n",
       "      <td>...</td>\n",
       "      <td>...</td>\n",
       "      <td>...</td>\n",
       "      <td>...</td>\n",
       "      <td>...</td>\n",
       "      <td>...</td>\n",
       "      <td>...</td>\n",
       "      <td>...</td>\n",
       "    </tr>\n",
       "    <tr>\n",
       "      <th>175</th>\n",
       "      <td>46</td>\n",
       "      <td>Expedition Everest</td>\n",
       "      <td>Disney’s Animal Kingdom</td>\n",
       "      <td>Orlando, Fla.</td>\n",
       "      <td>Vekoma</td>\n",
       "      <td>2006</td>\n",
       "      <td>82</td>\n",
       "      <td>2018</td>\n",
       "      <td>0</td>\n",
       "      <td>Poor</td>\n",
       "      <td>False</td>\n",
       "    </tr>\n",
       "    <tr>\n",
       "      <th>176</th>\n",
       "      <td>47</td>\n",
       "      <td>Storm Chaser</td>\n",
       "      <td>Kentucky Kingdom</td>\n",
       "      <td>Louisville, Ky.</td>\n",
       "      <td>Rocky Mountain</td>\n",
       "      <td>2016</td>\n",
       "      <td>81</td>\n",
       "      <td>2018</td>\n",
       "      <td>0</td>\n",
       "      <td>Poor</td>\n",
       "      <td>False</td>\n",
       "    </tr>\n",
       "    <tr>\n",
       "      <th>177</th>\n",
       "      <td>48</td>\n",
       "      <td>Raging Bull</td>\n",
       "      <td>Six Flags Great America</td>\n",
       "      <td>Gurnee, Ill.</td>\n",
       "      <td>B&amp;M</td>\n",
       "      <td>1999</td>\n",
       "      <td>78</td>\n",
       "      <td>2018</td>\n",
       "      <td>0</td>\n",
       "      <td>Poor</td>\n",
       "      <td>False</td>\n",
       "    </tr>\n",
       "    <tr>\n",
       "      <th>178</th>\n",
       "      <td>49</td>\n",
       "      <td>Thunderbird</td>\n",
       "      <td>Holiday World</td>\n",
       "      <td>Santa Claus, Ind.</td>\n",
       "      <td>B&amp;M</td>\n",
       "      <td>2015</td>\n",
       "      <td>72</td>\n",
       "      <td>2018</td>\n",
       "      <td>0</td>\n",
       "      <td>Poor</td>\n",
       "      <td>False</td>\n",
       "    </tr>\n",
       "    <tr>\n",
       "      <th>179</th>\n",
       "      <td>50</td>\n",
       "      <td>Whizzer</td>\n",
       "      <td>Six Flags Great America</td>\n",
       "      <td>Gurnee, Ill.</td>\n",
       "      <td>Schwarzkopf</td>\n",
       "      <td>1976</td>\n",
       "      <td>70</td>\n",
       "      <td>2018</td>\n",
       "      <td>0</td>\n",
       "      <td>Poor</td>\n",
       "      <td>False</td>\n",
       "    </tr>\n",
       "  </tbody>\n",
       "</table>\n",
       "<p>180 rows × 11 columns</p>\n",
       "</div>"
      ],
      "text/plain": [
       "     Rank                Name                        Park           Location  \\\n",
       "0       1    Millennium Force                 Cedar Point     Sandusky, Ohio   \n",
       "1       2             Bizarro       Six Flags New England      Agawam, Mass.   \n",
       "2       3  Expedition GeForce                Holiday Park  Hassloch, Germany   \n",
       "3       4               Nitro   Six Flags Great Adventure      Jackson, N.J.   \n",
       "4       5    Apollo’s Chariot  Busch Gardens Williamsburg  Williamsburg, Va.   \n",
       "..    ...                 ...                         ...                ...   \n",
       "175    46  Expedition Everest     Disney’s Animal Kingdom      Orlando, Fla.   \n",
       "176    47        Storm Chaser            Kentucky Kingdom    Louisville, Ky.   \n",
       "177    48         Raging Bull     Six Flags Great America       Gurnee, Ill.   \n",
       "178    49         Thunderbird               Holiday World  Santa Claus, Ind.   \n",
       "179    50             Whizzer     Six Flags Great America       Gurnee, Ill.   \n",
       "\n",
       "           Supplier  Year Built  Points  Year of Rank  TOP-Rank Rank Quality  \\\n",
       "0           Intamin        2000    1204          2013         1      Supreme   \n",
       "1           Intamin        2000    1011          2013         1      Supreme   \n",
       "2           Intamin        2001     598          2013         1      Supreme   \n",
       "3               B&M        2001     596          2013         1      Supreme   \n",
       "4               B&M        1999     542          2013         1      Supreme   \n",
       "..              ...         ...     ...           ...       ...          ...   \n",
       "175          Vekoma        2006      82          2018         0         Poor   \n",
       "176  Rocky Mountain        2016      81          2018         0         Poor   \n",
       "177             B&M        1999      78          2018         0         Poor   \n",
       "178             B&M        2015      72          2018         0         Poor   \n",
       "179     Schwarzkopf        1976      70          2018         0         Poor   \n",
       "\n",
       "     Supreme Quality  \n",
       "0               True  \n",
       "1               True  \n",
       "2               True  \n",
       "3               True  \n",
       "4               True  \n",
       "..               ...  \n",
       "175            False  \n",
       "176            False  \n",
       "177            False  \n",
       "178            False  \n",
       "179            False  \n",
       "\n",
       "[180 rows x 11 columns]"
      ]
     },
     "execution_count": 16,
     "metadata": {},
     "output_type": "execute_result"
    }
   ],
   "source": [
    "RollerCoasters"
   ]
  },
  {
   "cell_type": "code",
   "execution_count": 17,
   "id": "63c12f2d",
   "metadata": {},
   "outputs": [
    {
     "data": {
      "text/html": [
       "<div>\n",
       "<style scoped>\n",
       "    .dataframe tbody tr th:only-of-type {\n",
       "        vertical-align: middle;\n",
       "    }\n",
       "\n",
       "    .dataframe tbody tr th {\n",
       "        vertical-align: top;\n",
       "    }\n",
       "\n",
       "    .dataframe thead th {\n",
       "        text-align: right;\n",
       "    }\n",
       "</style>\n",
       "<table border=\"1\" class=\"dataframe\">\n",
       "  <thead>\n",
       "    <tr style=\"text-align: right;\">\n",
       "      <th></th>\n",
       "      <th>Rank</th>\n",
       "      <th>Name</th>\n",
       "      <th>Park</th>\n",
       "      <th>Location</th>\n",
       "      <th>Supplier</th>\n",
       "      <th>Year Built</th>\n",
       "      <th>Points</th>\n",
       "      <th>Year of Rank</th>\n",
       "      <th>TOP-Rank</th>\n",
       "      <th>Rank Quality</th>\n",
       "      <th>Supreme Quality</th>\n",
       "    </tr>\n",
       "  </thead>\n",
       "  <tbody>\n",
       "    <tr>\n",
       "      <th>0</th>\n",
       "      <td>1</td>\n",
       "      <td>Millennium Force</td>\n",
       "      <td>Cedar Point</td>\n",
       "      <td>Sandusky, Ohio</td>\n",
       "      <td>Intamin</td>\n",
       "      <td>2000</td>\n",
       "      <td>1204</td>\n",
       "      <td>2013</td>\n",
       "      <td>1</td>\n",
       "      <td>Supreme</td>\n",
       "      <td>1</td>\n",
       "    </tr>\n",
       "    <tr>\n",
       "      <th>1</th>\n",
       "      <td>2</td>\n",
       "      <td>Bizarro</td>\n",
       "      <td>Six Flags New England</td>\n",
       "      <td>Agawam, Mass.</td>\n",
       "      <td>Intamin</td>\n",
       "      <td>2000</td>\n",
       "      <td>1011</td>\n",
       "      <td>2013</td>\n",
       "      <td>1</td>\n",
       "      <td>Supreme</td>\n",
       "      <td>1</td>\n",
       "    </tr>\n",
       "    <tr>\n",
       "      <th>2</th>\n",
       "      <td>3</td>\n",
       "      <td>Expedition GeForce</td>\n",
       "      <td>Holiday Park</td>\n",
       "      <td>Hassloch, Germany</td>\n",
       "      <td>Intamin</td>\n",
       "      <td>2001</td>\n",
       "      <td>598</td>\n",
       "      <td>2013</td>\n",
       "      <td>1</td>\n",
       "      <td>Supreme</td>\n",
       "      <td>1</td>\n",
       "    </tr>\n",
       "    <tr>\n",
       "      <th>3</th>\n",
       "      <td>4</td>\n",
       "      <td>Nitro</td>\n",
       "      <td>Six Flags Great Adventure</td>\n",
       "      <td>Jackson, N.J.</td>\n",
       "      <td>B&amp;M</td>\n",
       "      <td>2001</td>\n",
       "      <td>596</td>\n",
       "      <td>2013</td>\n",
       "      <td>1</td>\n",
       "      <td>Supreme</td>\n",
       "      <td>1</td>\n",
       "    </tr>\n",
       "    <tr>\n",
       "      <th>4</th>\n",
       "      <td>5</td>\n",
       "      <td>Apollo’s Chariot</td>\n",
       "      <td>Busch Gardens Williamsburg</td>\n",
       "      <td>Williamsburg, Va.</td>\n",
       "      <td>B&amp;M</td>\n",
       "      <td>1999</td>\n",
       "      <td>542</td>\n",
       "      <td>2013</td>\n",
       "      <td>1</td>\n",
       "      <td>Supreme</td>\n",
       "      <td>1</td>\n",
       "    </tr>\n",
       "    <tr>\n",
       "      <th>...</th>\n",
       "      <td>...</td>\n",
       "      <td>...</td>\n",
       "      <td>...</td>\n",
       "      <td>...</td>\n",
       "      <td>...</td>\n",
       "      <td>...</td>\n",
       "      <td>...</td>\n",
       "      <td>...</td>\n",
       "      <td>...</td>\n",
       "      <td>...</td>\n",
       "      <td>...</td>\n",
       "    </tr>\n",
       "    <tr>\n",
       "      <th>175</th>\n",
       "      <td>46</td>\n",
       "      <td>Expedition Everest</td>\n",
       "      <td>Disney’s Animal Kingdom</td>\n",
       "      <td>Orlando, Fla.</td>\n",
       "      <td>Vekoma</td>\n",
       "      <td>2006</td>\n",
       "      <td>82</td>\n",
       "      <td>2018</td>\n",
       "      <td>0</td>\n",
       "      <td>Poor</td>\n",
       "      <td>0</td>\n",
       "    </tr>\n",
       "    <tr>\n",
       "      <th>176</th>\n",
       "      <td>47</td>\n",
       "      <td>Storm Chaser</td>\n",
       "      <td>Kentucky Kingdom</td>\n",
       "      <td>Louisville, Ky.</td>\n",
       "      <td>Rocky Mountain</td>\n",
       "      <td>2016</td>\n",
       "      <td>81</td>\n",
       "      <td>2018</td>\n",
       "      <td>0</td>\n",
       "      <td>Poor</td>\n",
       "      <td>0</td>\n",
       "    </tr>\n",
       "    <tr>\n",
       "      <th>177</th>\n",
       "      <td>48</td>\n",
       "      <td>Raging Bull</td>\n",
       "      <td>Six Flags Great America</td>\n",
       "      <td>Gurnee, Ill.</td>\n",
       "      <td>B&amp;M</td>\n",
       "      <td>1999</td>\n",
       "      <td>78</td>\n",
       "      <td>2018</td>\n",
       "      <td>0</td>\n",
       "      <td>Poor</td>\n",
       "      <td>0</td>\n",
       "    </tr>\n",
       "    <tr>\n",
       "      <th>178</th>\n",
       "      <td>49</td>\n",
       "      <td>Thunderbird</td>\n",
       "      <td>Holiday World</td>\n",
       "      <td>Santa Claus, Ind.</td>\n",
       "      <td>B&amp;M</td>\n",
       "      <td>2015</td>\n",
       "      <td>72</td>\n",
       "      <td>2018</td>\n",
       "      <td>0</td>\n",
       "      <td>Poor</td>\n",
       "      <td>0</td>\n",
       "    </tr>\n",
       "    <tr>\n",
       "      <th>179</th>\n",
       "      <td>50</td>\n",
       "      <td>Whizzer</td>\n",
       "      <td>Six Flags Great America</td>\n",
       "      <td>Gurnee, Ill.</td>\n",
       "      <td>Schwarzkopf</td>\n",
       "      <td>1976</td>\n",
       "      <td>70</td>\n",
       "      <td>2018</td>\n",
       "      <td>0</td>\n",
       "      <td>Poor</td>\n",
       "      <td>0</td>\n",
       "    </tr>\n",
       "  </tbody>\n",
       "</table>\n",
       "<p>180 rows × 11 columns</p>\n",
       "</div>"
      ],
      "text/plain": [
       "     Rank                Name                        Park           Location  \\\n",
       "0       1    Millennium Force                 Cedar Point     Sandusky, Ohio   \n",
       "1       2             Bizarro       Six Flags New England      Agawam, Mass.   \n",
       "2       3  Expedition GeForce                Holiday Park  Hassloch, Germany   \n",
       "3       4               Nitro   Six Flags Great Adventure      Jackson, N.J.   \n",
       "4       5    Apollo’s Chariot  Busch Gardens Williamsburg  Williamsburg, Va.   \n",
       "..    ...                 ...                         ...                ...   \n",
       "175    46  Expedition Everest     Disney’s Animal Kingdom      Orlando, Fla.   \n",
       "176    47        Storm Chaser            Kentucky Kingdom    Louisville, Ky.   \n",
       "177    48         Raging Bull     Six Flags Great America       Gurnee, Ill.   \n",
       "178    49         Thunderbird               Holiday World  Santa Claus, Ind.   \n",
       "179    50             Whizzer     Six Flags Great America       Gurnee, Ill.   \n",
       "\n",
       "           Supplier  Year Built  Points  Year of Rank  TOP-Rank Rank Quality  \\\n",
       "0           Intamin        2000    1204          2013         1      Supreme   \n",
       "1           Intamin        2000    1011          2013         1      Supreme   \n",
       "2           Intamin        2001     598          2013         1      Supreme   \n",
       "3               B&M        2001     596          2013         1      Supreme   \n",
       "4               B&M        1999     542          2013         1      Supreme   \n",
       "..              ...         ...     ...           ...       ...          ...   \n",
       "175          Vekoma        2006      82          2018         0         Poor   \n",
       "176  Rocky Mountain        2016      81          2018         0         Poor   \n",
       "177             B&M        1999      78          2018         0         Poor   \n",
       "178             B&M        2015      72          2018         0         Poor   \n",
       "179     Schwarzkopf        1976      70          2018         0         Poor   \n",
       "\n",
       "     Supreme Quality  \n",
       "0                  1  \n",
       "1                  1  \n",
       "2                  1  \n",
       "3                  1  \n",
       "4                  1  \n",
       "..               ...  \n",
       "175                0  \n",
       "176                0  \n",
       "177                0  \n",
       "178                0  \n",
       "179                0  \n",
       "\n",
       "[180 rows x 11 columns]"
      ]
     },
     "execution_count": 17,
     "metadata": {},
     "output_type": "execute_result"
    }
   ],
   "source": [
    "RollerCoasters['Supreme Quality'] = RollerCoasters['Rank Quality'].apply(lambda x: 1 if x == 'Supreme' else 0)\n",
    "RollerCoasters"
   ]
  },
  {
   "cell_type": "code",
   "execution_count": 18,
   "id": "9341bcc4",
   "metadata": {},
   "outputs": [
    {
     "name": "stdout",
     "output_type": "stream",
     "text": [
      "<class 'pandas.core.frame.DataFrame'>\n",
      "RangeIndex: 180 entries, 0 to 179\n",
      "Data columns (total 11 columns):\n",
      " #   Column           Non-Null Count  Dtype \n",
      "---  ------           --------------  ----- \n",
      " 0   Rank             180 non-null    int64 \n",
      " 1   Name             180 non-null    object\n",
      " 2   Park             180 non-null    object\n",
      " 3   Location         180 non-null    object\n",
      " 4   Supplier         180 non-null    object\n",
      " 5   Year Built       180 non-null    int64 \n",
      " 6   Points           180 non-null    int64 \n",
      " 7   Year of Rank     180 non-null    int64 \n",
      " 8   TOP-Rank         180 non-null    int64 \n",
      " 9   Rank Quality     180 non-null    object\n",
      " 10  Supreme Quality  180 non-null    int64 \n",
      "dtypes: int64(6), object(5)\n",
      "memory usage: 15.6+ KB\n"
     ]
    }
   ],
   "source": [
    "RollerCoasters.info() \n",
    "# несмотря на то, что колонка Rank Quality является категориальной по смыслу, в info она отображается как строковая"
   ]
  },
  {
   "cell_type": "code",
   "execution_count": 19,
   "id": "b2cfd728",
   "metadata": {},
   "outputs": [
    {
     "data": {
      "text/plain": [
       "0      Supreme\n",
       "1      Supreme\n",
       "2      Supreme\n",
       "3      Supreme\n",
       "4      Supreme\n",
       "        ...   \n",
       "175       Poor\n",
       "176       Poor\n",
       "177       Poor\n",
       "178       Poor\n",
       "179       Poor\n",
       "Name: Rank Quality, Length: 180, dtype: category\n",
       "Categories (5, object): ['Fine', 'Leading', 'Poor', 'Satisfactory', 'Supreme']"
      ]
     },
     "execution_count": 19,
     "metadata": {},
     "output_type": "execute_result"
    }
   ],
   "source": [
    "# Следовательно, для завершения создания категориальной переменной, перекодируем ее в необходимый тип\n",
    "RollerCoasters['Rank Quality'] = pd.Categorical(RollerCoasters['Rank Quality'])\n",
    "RollerCoasters['Rank Quality']"
   ]
  },
  {
   "cell_type": "markdown",
   "id": "eaf9fda5",
   "metadata": {},
   "source": [
    "**Таким образом, благодаря созданию 2 новых переменных (бинарной и категориальной), нам удалось дополнить датасет качественной характеристикой престижности американских горок, что облегчит в дальнейшем работу с датасетом**"
   ]
  },
  {
   "cell_type": "markdown",
   "id": "4ad44e60",
   "metadata": {},
   "source": [
    "# RollerCoasters DataSet - шаг №2. Статистический анализ и визуализация.\n"
   ]
  },
  {
   "cell_type": "code",
   "execution_count": 20,
   "id": "1f58369d",
   "metadata": {},
   "outputs": [
    {
     "data": {
      "text/plain": [
       "Supreme         60\n",
       "Fine            45\n",
       "Poor            31\n",
       "Satisfactory    29\n",
       "Leading         15\n",
       "Name: Rank Quality, dtype: int64"
      ]
     },
     "execution_count": 20,
     "metadata": {},
     "output_type": "execute_result"
    }
   ],
   "source": [
    "# Построим частотную таблицу для категориальной переменной Rank Quality\n",
    "RollerCoasters['Rank Quality'].value_counts()"
   ]
  },
  {
   "cell_type": "markdown",
   "id": "1e6f00a2",
   "metadata": {},
   "source": [
    "Таким образом, на основании частотного распределения, можно сделать вывод, что в представленном датасете преобладают американские горки, признанные любителями аттракционов ТОПовыми. При этом, аттракционов с плохим рейтингом всего лишь 31, это значит, что при просмотре данного датасета вероятность нарваться на плохой аттрацион, не заслуживающий особого внимания, составляет 17% из 100%."
   ]
  },
  {
   "cell_type": "code",
   "execution_count": 21,
   "id": "24a327cb",
   "metadata": {},
   "outputs": [
    {
     "data": {
      "text/plain": [
       "Supplier        Supreme Quality\n",
       "Arrow           0                   6\n",
       "                1                   1\n",
       "B&M             0                  47\n",
       "                1                  30\n",
       "Chance          0                   2\n",
       "Intamin         1                  21\n",
       "                0                  16\n",
       "Lagoon          0                   3\n",
       "Mack            0                   9\n",
       "Morgan          0                   3\n",
       "                1                   1\n",
       "Morgan/Arrow    0                   1\n",
       "Premier         0                   1\n",
       "RMC             0                  10\n",
       "                1                   2\n",
       "Rocky Mountain  0                   5\n",
       "                1                   5\n",
       "Schwarz         0                   2\n",
       "Schwarzkopf     0                  11\n",
       "Vekoma          0                   3\n",
       "Zierer          0                   1\n",
       "Name: Supreme Quality, dtype: int64"
      ]
     },
     "execution_count": 21,
     "metadata": {},
     "output_type": "execute_result"
    }
   ],
   "source": [
    "# Посредством группировки попробуем определить, какой производитель чаще всего является поставщиком ТОПовых горок\n",
    "RollerCoasters.groupby('Supplier')['Supreme Quality'].value_counts()"
   ]
  },
  {
   "cell_type": "markdown",
   "id": "a4ae56f3",
   "metadata": {},
   "source": [
    "Таким образом, исходя из проведенной группировки, можно сделать вывод, что компания B&M является ведущим производителем ТОПовых американских горок. На 2-м месте в рейтинге производителей ТОПовых горок - компания Intamin"
   ]
  },
  {
   "cell_type": "code",
   "execution_count": 22,
   "id": "51d1e319",
   "metadata": {},
   "outputs": [
    {
     "data": {
      "text/plain": [
       "<AxesSubplot:xlabel='Supplier'>"
      ]
     },
     "execution_count": 22,
     "metadata": {},
     "output_type": "execute_result"
    },
    {
     "data": {
      "image/png": "[encoded data removed]",
      "text/plain": [
       "<Figure size 432x288 with 1 Axes>"
      ]
     },
     "metadata": {
      "needs_background": "light"
     },
     "output_type": "display_data"
    }
   ],
   "source": [
    "# Для бОльшей наглядности визуализируем данные, полученные выше, с помощью графика типа bar chart\n",
    "RollerCoasters.groupby('Supplier')['Supreme Quality'].value_counts().unstack().plot(kind='bar', stacked=True)"
   ]
  },
  {
   "cell_type": "markdown",
   "id": "8cc59979",
   "metadata": {},
   "source": [
    "### Меры центральной тенденции"
   ]
  },
  {
   "cell_type": "code",
   "execution_count": 23,
   "id": "eb29df03",
   "metadata": {},
   "outputs": [
    {
     "data": {
      "text/plain": [
       "2004.6555555555556"
      ]
     },
     "execution_count": 23,
     "metadata": {},
     "output_type": "execute_result"
    }
   ],
   "source": [
    "# Для рассмотрения интересен год постройки аттракциона как один из возможных факторов влияния на позицию в рейтинге.\n",
    "# Для этого определим среднее значение переменной Year Built\n",
    "RollerCoasters['Year Built'].mean()"
   ]
  },
  {
   "cell_type": "markdown",
   "id": "181e467d",
   "metadata": {},
   "source": [
    "Таким образом, делаем вывод, что, в среднем, аттракционы, попавшие в совокупный рейтинг были построены в 2004 году"
   ]
  },
  {
   "cell_type": "code",
   "execution_count": 24,
   "id": "9c0fa852",
   "metadata": {},
   "outputs": [
    {
     "data": {
      "text/plain": [
       "2006.0"
      ]
     },
     "execution_count": 24,
     "metadata": {},
     "output_type": "execute_result"
    }
   ],
   "source": [
    "# Определеим численное значение переменной Year Built, которое находится в середине ранжированного ряда\n",
    "RollerCoasters['Year Built'].median()"
   ]
  },
  {
   "cell_type": "markdown",
   "id": "11dc96d8",
   "metadata": {},
   "source": [
    "Таким образом, серединное значение года постройки аттракционов - 2006 год. Это год, близкий к среднему арифметическому 2004."
   ]
  },
  {
   "cell_type": "code",
   "execution_count": 25,
   "id": "9b51787e",
   "metadata": {},
   "outputs": [
    {
     "data": {
      "text/plain": [
       "0    2001\n",
       "1    2006\n",
       "2    2015\n",
       "Name: Year Built, dtype: int64"
      ]
     },
     "execution_count": 25,
     "metadata": {},
     "output_type": "execute_result"
    }
   ],
   "source": [
    "# Признак ряда, который лучше всего характеризует ценностную центральную тенденцию - это мода\n",
    "# С помощью моды определим наиболее часто встречающееся значение варьирующего признака в вариационном ряду Year Built.\n",
    "RollerCoasters['Year Built'].mode()"
   ]
  },
  {
   "cell_type": "code",
   "execution_count": 26,
   "id": "f787d3f4",
   "metadata": {},
   "outputs": [
    {
     "data": {
      "text/plain": [
       "Year Built\n",
       "1976     74.333333\n",
       "1978    164.000000\n",
       "1987     93.000000\n",
       "1988     99.000000\n",
       "1989    262.800000\n",
       "1993     95.000000\n",
       "1994    269.000000\n",
       "1996    196.333333\n",
       "1997    107.857143\n",
       "1999    330.300000\n",
       "2000    921.615385\n",
       "2001    500.812500\n",
       "2002    209.500000\n",
       "2003    270.666667\n",
       "2006    197.500000\n",
       "2007    219.833333\n",
       "2008    189.666667\n",
       "2009    376.200000\n",
       "2010    356.200000\n",
       "2011    301.111111\n",
       "2012    299.500000\n",
       "2013    305.000000\n",
       "2014    164.500000\n",
       "2015    398.812500\n",
       "2016    174.666667\n",
       "2018    395.333333\n",
       "Name: Points, dtype: float64"
      ]
     },
     "execution_count": 26,
     "metadata": {},
     "output_type": "execute_result"
    }
   ],
   "source": [
    "# Сгруппируем датасет по годам постройки и найдем, сколько очков набрали аттракционы в каждый год\n",
    "RollerCoasters.groupby('Year Built')['Points'].mean()"
   ]
  },
  {
   "cell_type": "code",
   "execution_count": 27,
   "id": "fb379b75",
   "metadata": {},
   "outputs": [
    {
     "data": {
      "text/plain": [
       "<AxesSubplot:xlabel='Year Built'>"
      ]
     },
     "execution_count": 27,
     "metadata": {},
     "output_type": "execute_result"
    },
    {
     "data": {
      "image/png": "[encoded data removed]",
      "text/plain": [
       "<Figure size 432x288 with 1 Axes>"
      ]
     },
     "metadata": {
      "needs_background": "light"
     },
     "output_type": "display_data"
    }
   ],
   "source": [
    "# Отобразим найденную тенденцию на графике\n",
    "RollerCoasters.groupby('Year Built')['Points'].mean().plot(kind='bar')"
   ]
  },
  {
   "cell_type": "markdown",
   "id": "7b2dd9a9",
   "metadata": {},
   "source": [
    "**Изначально мы строили гипотезу о том, что год постройки влияет на рейтинг американской горки. По такой логике, самое высокое среднее значение должно быть в 2015 году. Но группировка по средним значениям не дает возможности однозначно подтвердить гипотезу, т.к. \"самым плодотворным\" годом с точки зрения постройки удачных и захватывающих аттракционов все-таки был рубежный 2000-й год.** "
   ]
  },
  {
   "cell_type": "code",
   "execution_count": 28,
   "id": "caf48df3",
   "metadata": {},
   "outputs": [
    {
     "data": {
      "text/plain": [
       "Year Built  Supreme Quality\n",
       "1976        0                    74.333333\n",
       "1978        0                   164.000000\n",
       "1987        0                    93.000000\n",
       "1988        0                    99.000000\n",
       "1989        0                   224.500000\n",
       "            1                   416.000000\n",
       "1993        0                    95.000000\n",
       "1994        0                   220.750000\n",
       "            1                   462.000000\n",
       "1996        0                   196.333333\n",
       "1997        0                   107.857143\n",
       "1999        0                   152.200000\n",
       "            1                   508.400000\n",
       "2000        0                    99.000000\n",
       "            1                   990.166667\n",
       "2001        0                   293.750000\n",
       "            1                   569.833333\n",
       "2002        0                   209.500000\n",
       "2003        0                   270.666667\n",
       "2006        0                   160.285714\n",
       "            1                   458.000000\n",
       "2007        0                   138.500000\n",
       "            1                   382.500000\n",
       "2008        0                   189.666667\n",
       "2009        0                   244.000000\n",
       "            1                   409.250000\n",
       "2010        0                   287.200000\n",
       "            1                   425.200000\n",
       "2011        0                   180.800000\n",
       "            1                   451.500000\n",
       "2012        0                   144.000000\n",
       "            1                   455.000000\n",
       "2013        0                   128.333333\n",
       "            1                   570.000000\n",
       "2014        0                   164.500000\n",
       "2015        0                   167.333333\n",
       "            1                  1093.250000\n",
       "2016        0                   174.666667\n",
       "2018        0                   178.500000\n",
       "            1                   829.000000\n",
       "Name: Points, dtype: float64"
      ]
     },
     "execution_count": 28,
     "metadata": {},
     "output_type": "execute_result"
    }
   ],
   "source": [
    "# ОДНАКО если мы сравним 2000 и 2015 годы в среднем количестве набранных очков топовыми аттракционами, то лидирует 2015 год\n",
    "RollerCoasters.groupby(['Year Built', 'Supreme Quality'])['Points'].mean()"
   ]
  },
  {
   "cell_type": "markdown",
   "id": "0820eb48",
   "metadata": {},
   "source": [
    "Таким образом, несмотря на то, что в среднем, аттракционы, построенные в 2000-м году набрали больше баллов при оценке, **ТОПовые аттракционы, построенные в 2015 году, в среднем, лидируют по баллам**, по сравнению с ТОПовыми горками 2000-го года постройки.\n",
    "\n",
    "Поэтому можно сделать вывод, что уровень ТОПовых аттракционов, построенных в 2015 году, по средним баллам самый высокий."
   ]
  },
  {
   "cell_type": "code",
   "execution_count": 29,
   "id": "957297d7",
   "metadata": {},
   "outputs": [
    {
     "data": {
      "text/plain": [
       "Year Built\n",
       "1976            Poor\n",
       "1978            Fine\n",
       "1987    Satisfactory\n",
       "1988    Satisfactory\n",
       "1989         Leading\n",
       "1993            Poor\n",
       "1994            Fine\n",
       "1996            Fine\n",
       "1997            Poor\n",
       "1999         Supreme\n",
       "2000         Supreme\n",
       "2001         Supreme\n",
       "2002            Fine\n",
       "2003            Fine\n",
       "2006            Poor\n",
       "2007            Poor\n",
       "2008            Fine\n",
       "2009         Supreme\n",
       "2010         Supreme\n",
       "2011         Supreme\n",
       "2012         Supreme\n",
       "2013            Poor\n",
       "2014            Fine\n",
       "2015            Fine\n",
       "2016    Satisfactory\n",
       "2018            Fine\n",
       "Name: Rank Quality, dtype: object"
      ]
     },
     "execution_count": 29,
     "metadata": {},
     "output_type": "execute_result"
    }
   ],
   "source": [
    "# Для дополнительной оценки каждого года постройки аттракционов, найдем модальные значения в каждом ряду с помощью функции .agg\n",
    "# Для этого снова сгруппируем датасет по годам и категориальной переменной Rank Quality\n",
    "RollerCoasters.groupby('Year Built')['Rank Quality'].agg(lambda x: x.value_counts().index[0])"
   ]
  },
  {
   "cell_type": "markdown",
   "id": "7b006860",
   "metadata": {},
   "source": [
    "Благодаря выявлению моды, мы получили оценку уровня концентрации каждого года по признаку оценочной характеристики аттракционов (Poor, Satisfactory, Fine, Leading, Supreme). Можно заявить, что в периоды **с 1999 по 2001** и **с 2009 по 2012** строились **примущественно ТОПовые аттракционы**. \n",
    "\n",
    "Неудачные годы - **1976, 1993, 1997, 2006-2007, 2013,** - **аттракционы, построенные в эти годы, в основном, оцениваются низко**."
   ]
  },
  {
   "cell_type": "markdown",
   "id": "7230de4b",
   "metadata": {},
   "source": [
    "### Меры разброса"
   ]
  },
  {
   "cell_type": "code",
   "execution_count": 30,
   "id": "8f8886b3",
   "metadata": {},
   "outputs": [],
   "source": [
    "# Сгруппируем данные снова по годам постройки и преобразуем их в отдельный датафрейм, зададим переменную\n",
    "RollerCoasters_year = pd.DataFrame(RollerCoasters.groupby('Year Built')['Points'].sum())"
   ]
  },
  {
   "cell_type": "code",
   "execution_count": 31,
   "id": "5747ae0c",
   "metadata": {},
   "outputs": [
    {
     "data": {
      "text/plain": [
       "<AxesSubplot:xlabel='Year Built'>"
      ]
     },
     "execution_count": 31,
     "metadata": {},
     "output_type": "execute_result"
    },
    {
     "data": {
      "image/png": "[encoded data removed]",
      "text/plain": [
       "<Figure size 432x288 with 1 Axes>"
      ]
     },
     "metadata": {
      "needs_background": "light"
     },
     "output_type": "display_data"
    }
   ],
   "source": [
    "RollerCoasters_year.plot(kind='bar')"
   ]
  },
  {
   "cell_type": "code",
   "execution_count": 32,
   "id": "968ba820",
   "metadata": {},
   "outputs": [
    {
     "data": {
      "text/plain": [
       "11882"
      ]
     },
     "execution_count": 32,
     "metadata": {},
     "output_type": "execute_result"
    }
   ],
   "source": [
    "# Найдем размах вариации - поймем, какой у аттракционов разбег в баллах\n",
    "RollerCoasters_year['Points'].max() - RollerCoasters_year['Points'].min()"
   ]
  },
  {
   "cell_type": "code",
   "execution_count": 33,
   "id": "64c926bf",
   "metadata": {},
   "outputs": [
    {
     "name": "stdout",
     "output_type": "stream",
     "text": [
      "7473534.08\n",
      "2733.7765234195717\n"
     ]
    }
   ],
   "source": [
    "# найдем дисперсию и среднеквадратическое отклонение для выборки\n",
    "# данные признаки будут характеризовать непосредственно степень рассеивания набранных баллов <Points> относительно среднего\n",
    "# делаем анализ выборки, а не ген.совокупности, т.к. предполагаем, что по умолчанию наша выборка недооценивает настоящий разброс\n",
    "RollerCoasters_mean = RollerCoasters_year['Points'].mean()\n",
    "deviations = RollerCoasters_year['Points'] - RollerCoasters_mean\n",
    "sq_deviations = deviations ** 2\n",
    "variance_samp = sq_deviations.sum() / (len(RollerCoasters_year) - 1) # дисперсия\n",
    "std_samp = np.sqrt(variance_samp) # среднеквадратическое отклонение\n",
    "print(variance_samp)\n",
    "print(std_samp)"
   ]
  },
  {
   "cell_type": "markdown",
   "id": "6a5066c0",
   "metadata": {},
   "source": [
    "### Выбросы данных"
   ]
  },
  {
   "cell_type": "code",
   "execution_count": 34,
   "id": "123eb185",
   "metadata": {},
   "outputs": [
    {
     "data": {
      "text/plain": [
       "count     180.000000\n",
       "mean      325.433333\n",
       "std       279.650322\n",
       "min        59.000000\n",
       "25%       112.250000\n",
       "50%       246.000000\n",
       "75%       427.000000\n",
       "max      1354.000000\n",
       "Name: Points, dtype: float64"
      ]
     },
     "execution_count": 34,
     "metadata": {},
     "output_type": "execute_result"
    }
   ],
   "source": [
    "RollerCoasters['Points'].describe()"
   ]
  },
  {
   "cell_type": "code",
   "execution_count": 35,
   "id": "50934db6",
   "metadata": {},
   "outputs": [
    {
     "data": {
      "text/plain": [
       "314.75"
      ]
     },
     "execution_count": 35,
     "metadata": {},
     "output_type": "execute_result"
    }
   ],
   "source": [
    "# найдем нетипичные баллы (выбросы), которые получили атррактицоны в ходе оценки, квартильным методом\n",
    "# для этого вычислим интерквартильный размах\n",
    "q1 = RollerCoasters['Points'].quantile(0.25)\n",
    "q3 = RollerCoasters['Points'].quantile(0.75)\n",
    "iqr = q3 - q1\n",
    "iqr"
   ]
  },
  {
   "cell_type": "code",
   "execution_count": 36,
   "id": "f163ab6e",
   "metadata": {},
   "outputs": [
    {
     "name": "stdout",
     "output_type": "stream",
     "text": [
      "899.125\n"
     ]
    }
   ],
   "source": [
    "# будем считать, что выбросами будут являться значения, которые на 1.5 больше 3 квартиля. \n",
    "# Т.е. вычисляем только верхний порог, т.к. минимальное значение стремится к 0 (существенно меньше максимального)\n",
    "iqr_outlier_threshold_up = q3 + 1.5 * iqr\n",
    "print(iqr_outlier_threshold_up)"
   ]
  },
  {
   "cell_type": "code",
   "execution_count": 37,
   "id": "e524f561",
   "metadata": {},
   "outputs": [
    {
     "data": {
      "text/plain": [
       "(12, 11)"
      ]
     },
     "execution_count": 37,
     "metadata": {},
     "output_type": "execute_result"
    }
   ],
   "source": [
    "# Определим количестве наблюдений, которые будем считать выбросами, - их 12\n",
    "RollerCoasters[RollerCoasters['Points'] > iqr_outlier_threshold_up].shape"
   ]
  },
  {
   "cell_type": "code",
   "execution_count": 38,
   "id": "ef3f1bdc",
   "metadata": {},
   "outputs": [
    {
     "data": {
      "text/plain": [
       "2000    9\n",
       "2015    3\n",
       "Name: Year Built, dtype: int64"
      ]
     },
     "execution_count": 38,
     "metadata": {},
     "output_type": "execute_result"
    }
   ],
   "source": [
    "# Посмотрим, по каким годам сгруппированы эти нетипичные наблюдения\n",
    "RollerCoasters[RollerCoasters['Points'] > iqr_outlier_threshold_up]['Year Built'].value_counts()"
   ]
  },
  {
   "cell_type": "markdown",
   "id": "03785646",
   "metadata": {},
   "source": [
    "По баллам атрракционов, выбросы имеют 2000 и 2015 годы, что неудивительно, ведь именно в эти годы были ранее зафиксированы самые высокие баллы ТОПовых американских горок. Объективно малое количество нетипичных значений гооврит о том, что, целом, однородная в области значений, выше среднего и не характеризуется обилием выбросов."
   ]
  },
  {
   "cell_type": "markdown",
   "id": "8e87a16f",
   "metadata": {},
   "source": [
    "### Корреляция и визуализация данных"
   ]
  },
  {
   "cell_type": "markdown",
   "id": "e04a88d4",
   "metadata": {},
   "source": [
    "Напомним об изначальной гипотезе проводимого исследования датасета: год постройки аттракциона влияет на его позицию в рейтинге и эти величины имеют обратную зависимость (чем больше год постройки горки, тем меньше значение ее места в рейтинге). Для начала определим меру линейной взаимосвязи между этими факторами. Для этого вычислим коэффициент корреляции."
   ]
  },
  {
   "cell_type": "code",
   "execution_count": 39,
   "id": "13f70b05",
   "metadata": {},
   "outputs": [
    {
     "data": {
      "text/plain": [
       "-0.10767502193403031"
      ]
     },
     "execution_count": 39,
     "metadata": {},
     "output_type": "execute_result"
    }
   ],
   "source": [
    "RollerCoasters['Year Built'].corr(RollerCoasters['Rank'])"
   ]
  },
  {
   "cell_type": "markdown",
   "id": "3219ce82",
   "metadata": {},
   "source": [
    "Коэффициент корреляции действительно характеризует обратную взаимосвязь факторов. Однако его значение говорит о слабой взаимосвязи. Поэтому в дальнейшем нет смысла разбирать зависимость именно этих факторов."
   ]
  },
  {
   "cell_type": "code",
   "execution_count": 40,
   "id": "02000077",
   "metadata": {},
   "outputs": [
    {
     "data": {
      "text/plain": [
       "<AxesSubplot:xlabel='Year Built', ylabel='Rank'>"
      ]
     },
     "execution_count": 40,
     "metadata": {},
     "output_type": "execute_result"
    },
    {
     "data": {
      "image/png": "[encoded data removed]",
      "text/plain": [
       "<Figure size 432x288 with 1 Axes>"
      ]
     },
     "metadata": {
      "needs_background": "light"
     },
     "output_type": "display_data"
    }
   ],
   "source": [
    "# в качестве подтверждения слабой взаимозависимости выбранных факторов построим график\n",
    "RollerCoasters.plot('Year Built','Rank', kind='scatter')"
   ]
  },
  {
   "cell_type": "markdown",
   "id": "099cc9df",
   "metadata": {},
   "source": [
    "Попробуем определить характер зависимости набранных в ходе оценки **очков** и **позиции аттракциона в рейтинге**. Очевидно, что у этих признаков разные статистические характеристики (размах вариации, интерквартильный размах, среднее, медиана, и т.д.), поэтому зависимость не может быть 100%."
   ]
  },
  {
   "cell_type": "code",
   "execution_count": 41,
   "id": "b35fd7b4",
   "metadata": {},
   "outputs": [
    {
     "data": {
      "text/plain": [
       "-0.8099665043339044"
      ]
     },
     "execution_count": 41,
     "metadata": {},
     "output_type": "execute_result"
    }
   ],
   "source": [
    "RollerCoasters['Rank'].corr(RollerCoasters['Points'])"
   ]
  },
  {
   "cell_type": "markdown",
   "id": "347a88aa",
   "metadata": {},
   "source": [
    "Действительно, **взаимосвязь** у этих факторов **обратная, высокая** (по шкале Чеддока). Значит, помимо набранных очков, существуют дополнительные факторы, повлиявшие на формирования рейтинга, но они не обозначены в датасете или количественно неизмеримы."
   ]
  },
  {
   "cell_type": "code",
   "execution_count": 42,
   "id": "a99ee3cc",
   "metadata": {},
   "outputs": [
    {
     "data": {
      "text/plain": [
       "<AxesSubplot:xlabel='Rank', ylabel='Points'>"
      ]
     },
     "execution_count": 42,
     "metadata": {},
     "output_type": "execute_result"
    },
    {
     "data": {
      "image/png": "[encoded data removed]",
      "text/plain": [
       "<Figure size 432x288 with 1 Axes>"
      ]
     },
     "metadata": {
      "needs_background": "light"
     },
     "output_type": "display_data"
    }
   ],
   "source": [
    "# Построим график линейной зависимости: \n",
    "RollerCoasters.plot('Rank','Points', kind='scatter')"
   ]
  },
  {
   "cell_type": "code",
   "execution_count": 43,
   "id": "182e1f23",
   "metadata": {},
   "outputs": [],
   "source": [
    "import matplotlib.pyplot as plt # импортируем библиотеку, необходимую дляя построения графиков"
   ]
  },
  {
   "cell_type": "markdown",
   "id": "d04c0234",
   "metadata": {},
   "source": [
    "Построим график: объединим нам датафрейм по производителям аттракционов и для каждого производителя найдем среднюю позицию в рейтинге американской горки."
   ]
  },
  {
   "cell_type": "code",
   "execution_count": 44,
   "id": "e6de1a46",
   "metadata": {},
   "outputs": [
    {
     "data": {
      "text/plain": [
       "Supplier\n",
       "Arrow             20.000000\n",
       "B&M               21.311688\n",
       "Chance            42.500000\n",
       "Intamin           12.081081\n",
       "Lagoon            39.333333\n",
       "Mack              26.111111\n",
       "Morgan            25.750000\n",
       "Morgan/Arrow      13.000000\n",
       "Premier           50.000000\n",
       "RMC               22.000000\n",
       "Rocky Mountain    19.900000\n",
       "Schwarz           39.000000\n",
       "Schwarzkopf       39.090909\n",
       "Vekoma            48.000000\n",
       "Zierer            36.000000\n",
       "Name: Rank, dtype: float64"
      ]
     },
     "execution_count": 44,
     "metadata": {},
     "output_type": "execute_result"
    }
   ],
   "source": [
    "RollerCoasters_suppliers = RollerCoasters.groupby('Supplier')['Rank'].mean()\n",
    "RollerCoasters_suppliers"
   ]
  },
  {
   "cell_type": "markdown",
   "id": "52209b37",
   "metadata": {},
   "source": [
    "Визуализируем данные в столбчатой диаграмме:"
   ]
  },
  {
   "cell_type": "code",
   "execution_count": 45,
   "id": "b5ea9a0f",
   "metadata": {},
   "outputs": [
    {
     "data": {
      "text/plain": [
       "<BarContainer object of 15 artists>"
      ]
     },
     "execution_count": 45,
     "metadata": {},
     "output_type": "execute_result"
    },
    {
     "data": {
      "image/png": "[encoded data removed]",
      "text/plain": [
       "<Figure size 1944x504 with 1 Axes>"
      ]
     },
     "metadata": {
      "needs_background": "light"
     },
     "output_type": "display_data"
    }
   ],
   "source": [
    "fig, ax = plt.subplots(figsize=(27,7))\n",
    "# в скобках мы выбрали такую пропорцию графика, которая нам подходит\n",
    "ax.bar(RollerCoasters_suppliers.index, RollerCoasters_suppliers)"
   ]
  },
  {
   "cell_type": "markdown",
   "id": "a640d98b",
   "metadata": {},
   "source": [
    "Построим также линейный график:"
   ]
  },
  {
   "cell_type": "code",
   "execution_count": 46,
   "id": "044434f2",
   "metadata": {},
   "outputs": [
    {
     "data": {
      "text/plain": [
       "[<matplotlib.lines.Line2D at 0x23b559daf10>]"
      ]
     },
     "execution_count": 46,
     "metadata": {},
     "output_type": "execute_result"
    },
    {
     "data": {
      "image/png": "[encoded data removed]",
      "text/plain": [
       "<Figure size 1800x576 with 1 Axes>"
      ]
     },
     "metadata": {
      "needs_background": "light"
     },
     "output_type": "display_data"
    }
   ],
   "source": [
    "fig, ax = plt.subplots(figsize=(25,8))\n",
    "ax.plot(RollerCoasters_suppliers.index, RollerCoasters_suppliers)"
   ]
  },
  {
   "cell_type": "markdown",
   "id": "5a9e0c1a",
   "metadata": {},
   "source": [
    "В итоге, по усредненным позициям в рейтинге компания **Intamin** выбивается в лидеры. Однако ранее мы выяснили, что среди производителей именно ТОПовых аттракционов лидирует B&M.  "
   ]
  },
  {
   "cell_type": "markdown",
   "id": "1b2c8375",
   "metadata": {},
   "source": [
    "Попробуем сгруппировать наши данные более сложным образом: посмотрим, в какие годы, какими производителями, какие в среднем были набраны позиции в рейтинге. Затем визуализируем данные на графике."
   ]
  },
  {
   "cell_type": "code",
   "execution_count": 47,
   "id": "8b813352",
   "metadata": {
    "scrolled": false
   },
   "outputs": [
    {
     "data": {
      "text/plain": [
       "Year Built  Supplier      \n",
       "1976        Schwarzkopf       47.000000\n",
       "1978        Schwarzkopf       31.000000\n",
       "1987        Schwarz           39.000000\n",
       "            Schwarzkopf       42.000000\n",
       "1988        Schwarzkopf       39.000000\n",
       "1989        Arrow             15.250000\n",
       "            Schwarzkopf       46.000000\n",
       "1993        B&M               40.000000\n",
       "1994        B&M               21.400000\n",
       "1996        B&M               25.666667\n",
       "1997        B&M               32.666667\n",
       "            Mack              43.500000\n",
       "            Morgan            40.500000\n",
       "1999        B&M               20.300000\n",
       "2000        Intamin            5.000000\n",
       "2001        Arrow             31.000000\n",
       "            B&M                6.166667\n",
       "            Intamin            3.666667\n",
       "            Morgan            11.000000\n",
       "            Morgan/Arrow      13.000000\n",
       "2002        Arrow             24.000000\n",
       "2003        Intamin           17.333333\n",
       "2006        B&M               25.727273\n",
       "            Mack              16.000000\n",
       "            Vekoma            48.000000\n",
       "2007        B&M               45.500000\n",
       "            Intamin           10.333333\n",
       "            Schwarzkopf       38.000000\n",
       "2008        B&M               26.333333\n",
       "2009        B&M                7.750000\n",
       "            Mack              19.000000\n",
       "2010        B&M               12.333333\n",
       "            Intamin           13.000000\n",
       "2011        Intamin           34.333333\n",
       "            RMC               12.500000\n",
       "            Rocky Mountain    11.750000\n",
       "2012        B&M               16.571429\n",
       "            Intamin           27.000000\n",
       "            Zierer            36.000000\n",
       "2013        B&M               49.000000\n",
       "            Premier           50.000000\n",
       "            RMC               12.500000\n",
       "            Rocky Mountain     7.000000\n",
       "2014        B&M               21.333333\n",
       "            Chance            42.500000\n",
       "            Mack              26.333333\n",
       "            RMC               39.500000\n",
       "2015        B&M               18.428571\n",
       "            Lagoon            39.333333\n",
       "            RMC               18.500000\n",
       "            Rocky Mountain    28.500000\n",
       "2016        B&M               27.666667\n",
       "            Intamin           22.666667\n",
       "            RMC               30.500000\n",
       "            Rocky Mountain    47.000000\n",
       "2018        Mack              18.000000\n",
       "            Rocky Mountain    20.500000\n",
       "Name: Rank, dtype: float64"
      ]
     },
     "execution_count": 47,
     "metadata": {},
     "output_type": "execute_result"
    }
   ],
   "source": [
    "RollerCoasters.groupby(['Year Built', 'Supplier'])['Rank'].mean()"
   ]
  },
  {
   "cell_type": "code",
   "execution_count": 48,
   "id": "a5d69c45",
   "metadata": {},
   "outputs": [
    {
     "data": {
      "image/png": "[encoded data removed]",
      "text/plain": [
       "<Figure size 1440x720 with 4 Axes>"
      ]
     },
     "metadata": {
      "needs_background": "light"
     },
     "output_type": "display_data"
    }
   ],
   "source": [
    "fig, ax = plt.subplots(2,2, figsize=(20,10))\n",
    "\n",
    "ax[0][0].plot(RollerCoasters.groupby(['Year Built', 'Supplier'])['Rank'].mean().loc[2001], c='#ff8c69')\n",
    "ax[0][1].plot(RollerCoasters.groupby(['Year Built', 'Supplier'])['Rank'].mean().loc[2007], c='#ff8c69')\n",
    "ax[1][0].plot(RollerCoasters.groupby(['Year Built', 'Supplier'])['Rank'].mean().loc[2013], c='#ff8c69')\n",
    "ax[1][1].plot(RollerCoasters.groupby(['Year Built', 'Supplier'])['Rank'].mean().loc[2016], c='#ff8c69')\n",
    "\n",
    "for axis in ax.ravel(): # стандартизируем ось ординат, чтобы нагляднее показать разницу в годах и производителях\n",
    "    axis.set_ylim(0,50)\n",
    "    axis.axhline(22.1, c='grey', lw=0.5) # добавим на каждый график линию - средняя позиция по всему рейтингу\n",
    "\n",
    "# создадим легенду для каждого графика, чтобы можно было их отличать  \n",
    "ax[0][0].legend(['2001', 'Annual Rank'], frameon=False)\n",
    "ax[0][1].legend(['2007', 'Annual Rank'], frameon=False)\n",
    "ax[1][0].legend(['2013', 'Annual Rank'], frameon=False)\n",
    "ax[1][1].legend(['2016', 'Annual Rank'], frameon=False)\n",
    "\n",
    "# добавим наименование графика\n",
    "fig.suptitle('Years ranks split by suppliers', fontsize=25)\n",
    "\n",
    "# сохраним график в нужном разрешении\n",
    "fig.savefig('years.pdf')\n",
    "fig.savefig('years.png', dpi=100)"
   ]
  },
  {
   "cell_type": "code",
   "execution_count": null,
   "id": "7aa5001c",
   "metadata": {},
   "outputs": [],
   "source": []
  },
  {
   "cell_type": "code",
   "execution_count": null,
   "id": "ea7dbd9a",
   "metadata": {},
   "outputs": [],
   "source": []
  }
 ],
 "metadata": {
  "kernelspec": {
   "display_name": "Python 3 (ipykernel)",
   "language": "python",
   "name": "python3"
  },
  "language_info": {
   "codemirror_mode": {
    "name": "ipython",
    "version": 3
   },
   "file_extension": ".py",
   "mimetype": "text/x-python",
   "name": "python",
   "nbconvert_exporter": "python",
   "pygments_lexer": "ipython3",
   "version": "3.9.12"
  }
 },
 "nbformat": 4,
 "nbformat_minor": 5
}
